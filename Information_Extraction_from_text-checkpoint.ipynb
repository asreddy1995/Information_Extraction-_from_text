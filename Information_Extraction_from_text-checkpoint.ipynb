{
 "cells": [
  {
   "cell_type": "code",
   "execution_count": 1,
   "id": "bd21f868",
   "metadata": {},
   "outputs": [],
   "source": [
    "import re"
   ]
  },
  {
   "cell_type": "code",
   "execution_count": 2,
   "id": "a5e518c3",
   "metadata": {},
   "outputs": [],
   "source": [
    "import pandas as pd"
   ]
  },
  {
   "cell_type": "code",
   "execution_count": 3,
   "id": "c51ed8cf",
   "metadata": {},
   "outputs": [],
   "source": [
    "import nltk"
   ]
  },
  {
   "cell_type": "code",
   "execution_count": 4,
   "id": "108ccf63",
   "metadata": {},
   "outputs": [],
   "source": [
    "import spacy"
   ]
  },
  {
   "cell_type": "code",
   "execution_count": 5,
   "id": "bd644626",
   "metadata": {},
   "outputs": [],
   "source": [
    "import math"
   ]
  },
  {
   "cell_type": "code",
   "execution_count": 6,
   "id": "66160320",
   "metadata": {},
   "outputs": [],
   "source": [
    "import numpy as np"
   ]
  },
  {
   "cell_type": "code",
   "execution_count": 7,
   "id": "5442bafa",
   "metadata": {},
   "outputs": [],
   "source": [
    "from tqdm import tqdm"
   ]
  },
  {
   "cell_type": "code",
   "execution_count": 8,
   "id": "d9c85393",
   "metadata": {},
   "outputs": [],
   "source": [
    "from spacy.matcher import Matcher"
   ]
  },
  {
   "cell_type": "code",
   "execution_count": 9,
   "id": "d4e65326",
   "metadata": {},
   "outputs": [],
   "source": [
    "from spacy.tokens import Span"
   ]
  },
  {
   "cell_type": "code",
   "execution_count": 10,
   "id": "f15a7ffd",
   "metadata": {},
   "outputs": [],
   "source": [
    "from spacy import displacy"
   ]
  },
  {
   "cell_type": "code",
   "execution_count": 11,
   "id": "338ac2e2",
   "metadata": {},
   "outputs": [],
   "source": [
    "pd.set_option('display.max_colwidth', 200)"
   ]
  },
  {
   "cell_type": "code",
   "execution_count": 12,
   "id": "17f8d8bf",
   "metadata": {},
   "outputs": [
    {
     "name": "stdout",
     "output_type": "stream",
     "text": [
      "Requirement already satisfied: spacy in c:\\users\\my pc\\anaconda3\\anaconda\\envs\\tensorflow\\lib\\site-packages (3.0.6)\n",
      "Requirement already satisfied: blis<0.8.0,>=0.4.0 in c:\\users\\my pc\\anaconda3\\anaconda\\envs\\tensorflow\\lib\\site-packages (from spacy) (0.7.4)\n",
      "Requirement already satisfied: wasabi<1.1.0,>=0.8.1 in c:\\users\\my pc\\anaconda3\\anaconda\\envs\\tensorflow\\lib\\site-packages (from spacy) (0.8.2)\n",
      "Requirement already satisfied: cymem<2.1.0,>=2.0.2 in c:\\users\\my pc\\anaconda3\\anaconda\\envs\\tensorflow\\lib\\site-packages (from spacy) (2.0.5)\n",
      "Requirement already satisfied: catalogue<2.1.0,>=2.0.3 in c:\\users\\my pc\\anaconda3\\anaconda\\envs\\tensorflow\\lib\\site-packages (from spacy) (2.0.3)\n",
      "Requirement already satisfied: typer<0.4.0,>=0.3.0 in c:\\users\\my pc\\anaconda3\\anaconda\\envs\\tensorflow\\lib\\site-packages (from spacy) (0.3.2)\n",
      "Requirement already satisfied: pathy>=0.3.5 in c:\\users\\my pc\\anaconda3\\anaconda\\envs\\tensorflow\\lib\\site-packages (from spacy) (0.5.2)\n",
      "Requirement already satisfied: pydantic<1.8.0,>=1.7.1 in c:\\users\\my pc\\anaconda3\\anaconda\\envs\\tensorflow\\lib\\site-packages (from spacy) (1.7.3)\n",
      "Requirement already satisfied: jinja2 in c:\\users\\my pc\\anaconda3\\anaconda\\envs\\tensorflow\\lib\\site-packages (from spacy) (2.11.3)\n",
      "Requirement already satisfied: packaging>=20.0 in c:\\users\\my pc\\anaconda3\\anaconda\\envs\\tensorflow\\lib\\site-packages (from spacy) (20.9)\n",
      "Requirement already satisfied: spacy-legacy<3.1.0,>=3.0.4 in c:\\users\\my pc\\anaconda3\\anaconda\\envs\\tensorflow\\lib\\site-packages (from spacy) (3.0.5)\n",
      "Requirement already satisfied: murmurhash<1.1.0,>=0.28.0 in c:\\users\\my pc\\anaconda3\\anaconda\\envs\\tensorflow\\lib\\site-packages (from spacy) (1.0.5)\n",
      "Requirement already satisfied: tqdm<5.0.0,>=4.38.0 in c:\\users\\my pc\\anaconda3\\anaconda\\envs\\tensorflow\\lib\\site-packages (from spacy) (4.60.0)\n",
      "Requirement already satisfied: thinc<8.1.0,>=8.0.3 in c:\\users\\my pc\\anaconda3\\anaconda\\envs\\tensorflow\\lib\\site-packages (from spacy) (8.0.3)\n",
      "Requirement already satisfied: srsly<3.0.0,>=2.4.1 in c:\\users\\my pc\\anaconda3\\anaconda\\envs\\tensorflow\\lib\\site-packages (from spacy) (2.4.1)\n",
      "Requirement already satisfied: requests<3.0.0,>=2.13.0 in c:\\users\\my pc\\anaconda3\\anaconda\\envs\\tensorflow\\lib\\site-packages (from spacy) (2.25.1)\n",
      "Requirement already satisfied: preshed<3.1.0,>=3.0.2 in c:\\users\\my pc\\anaconda3\\anaconda\\envs\\tensorflow\\lib\\site-packages (from spacy) (3.0.5)\n",
      "Requirement already satisfied: setuptools in c:\\users\\my pc\\anaconda3\\anaconda\\envs\\tensorflow\\lib\\site-packages (from spacy) (52.0.0.post20210125)\n",
      "Requirement already satisfied: numpy>=1.15.0 in c:\\users\\my pc\\anaconda3\\anaconda\\envs\\tensorflow\\lib\\site-packages (from spacy) (1.20.1)\n",
      "Requirement already satisfied: pyparsing>=2.0.2 in c:\\users\\my pc\\anaconda3\\anaconda\\envs\\tensorflow\\lib\\site-packages (from packaging>=20.0->spacy) (2.4.7)\n",
      "Requirement already satisfied: smart-open<4.0.0,>=2.2.0 in c:\\users\\my pc\\anaconda3\\anaconda\\envs\\tensorflow\\lib\\site-packages (from pathy>=0.3.5->spacy) (3.0.0)\n",
      "Requirement already satisfied: certifi>=2017.4.17 in c:\\users\\my pc\\anaconda3\\anaconda\\envs\\tensorflow\\lib\\site-packages (from requests<3.0.0,>=2.13.0->spacy) (2020.12.5)\n",
      "Requirement already satisfied: idna<3,>=2.5 in c:\\users\\my pc\\anaconda3\\anaconda\\envs\\tensorflow\\lib\\site-packages (from requests<3.0.0,>=2.13.0->spacy) (2.10)\n",
      "Requirement already satisfied: chardet<5,>=3.0.2 in c:\\users\\my pc\\anaconda3\\anaconda\\envs\\tensorflow\\lib\\site-packages (from requests<3.0.0,>=2.13.0->spacy) (3.0.4)\n",
      "Requirement already satisfied: urllib3<1.27,>=1.21.1 in c:\\users\\my pc\\anaconda3\\anaconda\\envs\\tensorflow\\lib\\site-packages (from requests<3.0.0,>=2.13.0->spacy) (1.26.4)\n",
      "Requirement already satisfied: click<7.2.0,>=7.1.1 in c:\\users\\my pc\\anaconda3\\anaconda\\envs\\tensorflow\\lib\\site-packages (from typer<0.4.0,>=0.3.0->spacy) (7.1.2)\n",
      "Requirement already satisfied: MarkupSafe>=0.23 in c:\\users\\my pc\\anaconda3\\anaconda\\envs\\tensorflow\\lib\\site-packages (from jinja2->spacy) (1.1.1)\n"
     ]
    }
   ],
   "source": [
    "!pip install spacy"
   ]
  },
  {
   "cell_type": "code",
   "execution_count": 13,
   "id": "49471c18",
   "metadata": {},
   "outputs": [
    {
     "name": "stdout",
     "output_type": "stream",
     "text": [
      "Requirement already satisfied: spacy in c:\\users\\my pc\\anaconda3\\anaconda\\envs\\tensorflow\\lib\\site-packages (3.0.6)\n",
      "Requirement already satisfied: packaging>=20.0 in c:\\users\\my pc\\anaconda3\\anaconda\\envs\\tensorflow\\lib\\site-packages (from spacy) (20.9)\n",
      "Requirement already satisfied: wasabi<1.1.0,>=0.8.1 in c:\\users\\my pc\\anaconda3\\anaconda\\envs\\tensorflow\\lib\\site-packages (from spacy) (0.8.2)\n",
      "Requirement already satisfied: jinja2 in c:\\users\\my pc\\anaconda3\\anaconda\\envs\\tensorflow\\lib\\site-packages (from spacy) (2.11.3)\n",
      "Requirement already satisfied: blis<0.8.0,>=0.4.0 in c:\\users\\my pc\\anaconda3\\anaconda\\envs\\tensorflow\\lib\\site-packages (from spacy) (0.7.4)\n",
      "Requirement already satisfied: catalogue<2.1.0,>=2.0.3 in c:\\users\\my pc\\anaconda3\\anaconda\\envs\\tensorflow\\lib\\site-packages (from spacy) (2.0.3)\n",
      "Requirement already satisfied: pathy>=0.3.5 in c:\\users\\my pc\\anaconda3\\anaconda\\envs\\tensorflow\\lib\\site-packages (from spacy) (0.5.2)\n",
      "Requirement already satisfied: pydantic<1.8.0,>=1.7.1 in c:\\users\\my pc\\anaconda3\\anaconda\\envs\\tensorflow\\lib\\site-packages (from spacy) (1.7.3)\n",
      "Requirement already satisfied: requests<3.0.0,>=2.13.0 in c:\\users\\my pc\\anaconda3\\anaconda\\envs\\tensorflow\\lib\\site-packages (from spacy) (2.25.1)\n",
      "Requirement already satisfied: preshed<3.1.0,>=3.0.2 in c:\\users\\my pc\\anaconda3\\anaconda\\envs\\tensorflow\\lib\\site-packages (from spacy) (3.0.5)\n",
      "Requirement already satisfied: spacy-legacy<3.1.0,>=3.0.4 in c:\\users\\my pc\\anaconda3\\anaconda\\envs\\tensorflow\\lib\\site-packages (from spacy) (3.0.5)\n",
      "Requirement already satisfied: setuptools in c:\\users\\my pc\\anaconda3\\anaconda\\envs\\tensorflow\\lib\\site-packages (from spacy) (52.0.0.post20210125)\n",
      "Requirement already satisfied: murmurhash<1.1.0,>=0.28.0 in c:\\users\\my pc\\anaconda3\\anaconda\\envs\\tensorflow\\lib\\site-packages (from spacy) (1.0.5)\n",
      "Requirement already satisfied: thinc<8.1.0,>=8.0.3 in c:\\users\\my pc\\anaconda3\\anaconda\\envs\\tensorflow\\lib\\site-packages (from spacy) (8.0.3)\n",
      "Requirement already satisfied: typer<0.4.0,>=0.3.0 in c:\\users\\my pc\\anaconda3\\anaconda\\envs\\tensorflow\\lib\\site-packages (from spacy) (0.3.2)\n",
      "Requirement already satisfied: numpy>=1.15.0 in c:\\users\\my pc\\anaconda3\\anaconda\\envs\\tensorflow\\lib\\site-packages (from spacy) (1.20.1)\n",
      "Requirement already satisfied: tqdm<5.0.0,>=4.38.0 in c:\\users\\my pc\\anaconda3\\anaconda\\envs\\tensorflow\\lib\\site-packages (from spacy) (4.60.0)\n",
      "Requirement already satisfied: srsly<3.0.0,>=2.4.1 in c:\\users\\my pc\\anaconda3\\anaconda\\envs\\tensorflow\\lib\\site-packages (from spacy) (2.4.1)\n",
      "Requirement already satisfied: cymem<2.1.0,>=2.0.2 in c:\\users\\my pc\\anaconda3\\anaconda\\envs\\tensorflow\\lib\\site-packages (from spacy) (2.0.5)\n",
      "Requirement already satisfied: pyparsing>=2.0.2 in c:\\users\\my pc\\anaconda3\\anaconda\\envs\\tensorflow\\lib\\site-packages (from packaging>=20.0->spacy) (2.4.7)\n",
      "Requirement already satisfied: smart-open<4.0.0,>=2.2.0 in c:\\users\\my pc\\anaconda3\\anaconda\\envs\\tensorflow\\lib\\site-packages (from pathy>=0.3.5->spacy) (3.0.0)\n",
      "Requirement already satisfied: certifi>=2017.4.17 in c:\\users\\my pc\\anaconda3\\anaconda\\envs\\tensorflow\\lib\\site-packages (from requests<3.0.0,>=2.13.0->spacy) (2020.12.5)\n",
      "Requirement already satisfied: chardet<5,>=3.0.2 in c:\\users\\my pc\\anaconda3\\anaconda\\envs\\tensorflow\\lib\\site-packages (from requests<3.0.0,>=2.13.0->spacy) (3.0.4)\n",
      "Requirement already satisfied: idna<3,>=2.5 in c:\\users\\my pc\\anaconda3\\anaconda\\envs\\tensorflow\\lib\\site-packages (from requests<3.0.0,>=2.13.0->spacy) (2.10)\n",
      "Requirement already satisfied: urllib3<1.27,>=1.21.1 in c:\\users\\my pc\\anaconda3\\anaconda\\envs\\tensorflow\\lib\\site-packages (from requests<3.0.0,>=2.13.0->spacy) (1.26.4)\n",
      "Requirement already satisfied: click<7.2.0,>=7.1.1 in c:\\users\\my pc\\anaconda3\\anaconda\\envs\\tensorflow\\lib\\site-packages (from typer<0.4.0,>=0.3.0->spacy) (7.1.2)\n",
      "Requirement already satisfied: MarkupSafe>=0.23 in c:\\users\\my pc\\anaconda3\\anaconda\\envs\\tensorflow\\lib\\site-packages (from jinja2->spacy) (1.1.1)\n"
     ]
    }
   ],
   "source": [
    "!pip install spacy --user"
   ]
  },
  {
   "cell_type": "code",
   "execution_count": 14,
   "id": "a0f9d5af",
   "metadata": {},
   "outputs": [
    {
     "name": "stdout",
     "output_type": "stream",
     "text": [
      "Collecting en-core-web-sm==3.0.0\n",
      "  Downloading https://github.com/explosion/spacy-models/releases/download/en_core_web_sm-3.0.0/en_core_web_sm-3.0.0-py3-none-any.whl (13.7 MB)\n",
      "Requirement already satisfied: spacy<3.1.0,>=3.0.0 in c:\\users\\my pc\\anaconda3\\anaconda\\envs\\tensorflow\\lib\\site-packages (from en-core-web-sm==3.0.0) (3.0.6)\n",
      "Requirement already satisfied: catalogue<2.1.0,>=2.0.3 in c:\\users\\my pc\\anaconda3\\anaconda\\envs\\tensorflow\\lib\\site-packages (from spacy<3.1.0,>=3.0.0->en-core-web-sm==3.0.0) (2.0.3)\n",
      "Requirement already satisfied: cymem<2.1.0,>=2.0.2 in c:\\users\\my pc\\anaconda3\\anaconda\\envs\\tensorflow\\lib\\site-packages (from spacy<3.1.0,>=3.0.0->en-core-web-sm==3.0.0) (2.0.5)\n",
      "Requirement already satisfied: srsly<3.0.0,>=2.4.1 in c:\\users\\my pc\\anaconda3\\anaconda\\envs\\tensorflow\\lib\\site-packages (from spacy<3.1.0,>=3.0.0->en-core-web-sm==3.0.0) (2.4.1)\n",
      "Requirement already satisfied: tqdm<5.0.0,>=4.38.0 in c:\\users\\my pc\\anaconda3\\anaconda\\envs\\tensorflow\\lib\\site-packages (from spacy<3.1.0,>=3.0.0->en-core-web-sm==3.0.0) (4.60.0)\n",
      "Requirement already satisfied: jinja2 in c:\\users\\my pc\\anaconda3\\anaconda\\envs\\tensorflow\\lib\\site-packages (from spacy<3.1.0,>=3.0.0->en-core-web-sm==3.0.0) (2.11.3)\n",
      "Requirement already satisfied: murmurhash<1.1.0,>=0.28.0 in c:\\users\\my pc\\anaconda3\\anaconda\\envs\\tensorflow\\lib\\site-packages (from spacy<3.1.0,>=3.0.0->en-core-web-sm==3.0.0) (1.0.5)\n",
      "Requirement already satisfied: pydantic<1.8.0,>=1.7.1 in c:\\users\\my pc\\anaconda3\\anaconda\\envs\\tensorflow\\lib\\site-packages (from spacy<3.1.0,>=3.0.0->en-core-web-sm==3.0.0) (1.7.3)\n",
      "Requirement already satisfied: preshed<3.1.0,>=3.0.2 in c:\\users\\my pc\\anaconda3\\anaconda\\envs\\tensorflow\\lib\\site-packages (from spacy<3.1.0,>=3.0.0->en-core-web-sm==3.0.0) (3.0.5)\n",
      "Requirement already satisfied: spacy-legacy<3.1.0,>=3.0.4 in c:\\users\\my pc\\anaconda3\\anaconda\\envs\\tensorflow\\lib\\site-packages (from spacy<3.1.0,>=3.0.0->en-core-web-sm==3.0.0) (3.0.5)\n",
      "Requirement already satisfied: setuptools in c:\\users\\my pc\\anaconda3\\anaconda\\envs\\tensorflow\\lib\\site-packages (from spacy<3.1.0,>=3.0.0->en-core-web-sm==3.0.0) (52.0.0.post20210125)\n",
      "Requirement already satisfied: wasabi<1.1.0,>=0.8.1 in c:\\users\\my pc\\anaconda3\\anaconda\\envs\\tensorflow\\lib\\site-packages (from spacy<3.1.0,>=3.0.0->en-core-web-sm==3.0.0) (0.8.2)\n",
      "Requirement already satisfied: pathy>=0.3.5 in c:\\users\\my pc\\anaconda3\\anaconda\\envs\\tensorflow\\lib\\site-packages (from spacy<3.1.0,>=3.0.0->en-core-web-sm==3.0.0) (0.5.2)\n",
      "Requirement already satisfied: packaging>=20.0 in c:\\users\\my pc\\anaconda3\\anaconda\\envs\\tensorflow\\lib\\site-packages (from spacy<3.1.0,>=3.0.0->en-core-web-sm==3.0.0) (20.9)\n",
      "Requirement already satisfied: numpy>=1.15.0 in c:\\users\\my pc\\anaconda3\\anaconda\\envs\\tensorflow\\lib\\site-packages (from spacy<3.1.0,>=3.0.0->en-core-web-sm==3.0.0) (1.20.1)\n",
      "Requirement already satisfied: typer<0.4.0,>=0.3.0 in c:\\users\\my pc\\anaconda3\\anaconda\\envs\\tensorflow\\lib\\site-packages (from spacy<3.1.0,>=3.0.0->en-core-web-sm==3.0.0) (0.3.2)\n",
      "Requirement already satisfied: thinc<8.1.0,>=8.0.3 in c:\\users\\my pc\\anaconda3\\anaconda\\envs\\tensorflow\\lib\\site-packages (from spacy<3.1.0,>=3.0.0->en-core-web-sm==3.0.0) (8.0.3)\n",
      "Requirement already satisfied: blis<0.8.0,>=0.4.0 in c:\\users\\my pc\\anaconda3\\anaconda\\envs\\tensorflow\\lib\\site-packages (from spacy<3.1.0,>=3.0.0->en-core-web-sm==3.0.0) (0.7.4)\n",
      "Requirement already satisfied: requests<3.0.0,>=2.13.0 in c:\\users\\my pc\\anaconda3\\anaconda\\envs\\tensorflow\\lib\\site-packages (from spacy<3.1.0,>=3.0.0->en-core-web-sm==3.0.0) (2.25.1)\n",
      "Requirement already satisfied: pyparsing>=2.0.2 in c:\\users\\my pc\\anaconda3\\anaconda\\envs\\tensorflow\\lib\\site-packages (from packaging>=20.0->spacy<3.1.0,>=3.0.0->en-core-web-sm==3.0.0) (2.4.7)\n",
      "Requirement already satisfied: smart-open<4.0.0,>=2.2.0 in c:\\users\\my pc\\anaconda3\\anaconda\\envs\\tensorflow\\lib\\site-packages (from pathy>=0.3.5->spacy<3.1.0,>=3.0.0->en-core-web-sm==3.0.0) (3.0.0)\n",
      "Requirement already satisfied: certifi>=2017.4.17 in c:\\users\\my pc\\anaconda3\\anaconda\\envs\\tensorflow\\lib\\site-packages (from requests<3.0.0,>=2.13.0->spacy<3.1.0,>=3.0.0->en-core-web-sm==3.0.0) (2020.12.5)\n",
      "Requirement already satisfied: idna<3,>=2.5 in c:\\users\\my pc\\anaconda3\\anaconda\\envs\\tensorflow\\lib\\site-packages (from requests<3.0.0,>=2.13.0->spacy<3.1.0,>=3.0.0->en-core-web-sm==3.0.0) (2.10)\n",
      "Requirement already satisfied: chardet<5,>=3.0.2 in c:\\users\\my pc\\anaconda3\\anaconda\\envs\\tensorflow\\lib\\site-packages (from requests<3.0.0,>=2.13.0->spacy<3.1.0,>=3.0.0->en-core-web-sm==3.0.0) (3.0.4)\n",
      "Requirement already satisfied: urllib3<1.27,>=1.21.1 in c:\\users\\my pc\\anaconda3\\anaconda\\envs\\tensorflow\\lib\\site-packages (from requests<3.0.0,>=2.13.0->spacy<3.1.0,>=3.0.0->en-core-web-sm==3.0.0) (1.26.4)\n",
      "Requirement already satisfied: click<7.2.0,>=7.1.1 in c:\\users\\my pc\\anaconda3\\anaconda\\envs\\tensorflow\\lib\\site-packages (from typer<0.4.0,>=0.3.0->spacy<3.1.0,>=3.0.0->en-core-web-sm==3.0.0) (7.1.2)\n",
      "Requirement already satisfied: MarkupSafe>=0.23 in c:\\users\\my pc\\anaconda3\\anaconda\\envs\\tensorflow\\lib\\site-packages (from jinja2->spacy<3.1.0,>=3.0.0->en-core-web-sm==3.0.0) (1.1.1)\n",
      "Installing collected packages: en-core-web-sm\n",
      "Successfully installed en-core-web-sm-3.0.0\n",
      "[+] Download and installation successful\n",
      "You can now load the package via spacy.load('en_core_web_sm')\n"
     ]
    }
   ],
   "source": [
    "!python -m spacy download en_core_web_sm\n"
   ]
  },
  {
   "cell_type": "code",
   "execution_count": 15,
   "id": "03c865cf",
   "metadata": {},
   "outputs": [],
   "source": [
    "import spacy\n",
    "nlp = spacy.load(\"en_core_web_sm\")"
   ]
  },
  {
   "cell_type": "code",
   "execution_count": 26,
   "id": "6afad170",
   "metadata": {},
   "outputs": [],
   "source": [
    "text = \"GDP in developing countries such as Vietnam will continue growing at a high rate.\" \n"
   ]
  },
  {
   "cell_type": "code",
   "execution_count": 27,
   "id": "9b39c3f9",
   "metadata": {},
   "outputs": [],
   "source": [
    "doc=nlp(text)"
   ]
  },
  {
   "cell_type": "code",
   "execution_count": 28,
   "id": "a2a9f35e",
   "metadata": {},
   "outputs": [
    {
     "name": "stdout",
     "output_type": "stream",
     "text": [
      "GDP nsubj\n",
      "in prep\n",
      "developing amod\n",
      "countries pobj\n",
      "such amod\n",
      "as prep\n",
      "Vietnam pobj\n",
      "will aux\n",
      "continue ROOT\n",
      "growing xcomp\n",
      "at prep\n",
      "a det\n",
      "high amod\n",
      "rate pobj\n",
      ". punct\n"
     ]
    }
   ],
   "source": [
    "for tok in doc:\n",
    "    print(tok.text, tok.dep_)"
   ]
  },
  {
   "cell_type": "code",
   "execution_count": 32,
   "id": "7f1c3d7c",
   "metadata": {},
   "outputs": [],
   "source": [
    "pattern=[{'POS':'NOUN'},\n",
    "        {'LOWER':'such'},\n",
    "        {'LOWER':'as'},\n",
    "        {'POS':'PROPN'}]\n"
   ]
  },
  {
   "cell_type": "code",
   "execution_count": 33,
   "id": "60fb154a",
   "metadata": {},
   "outputs": [],
   "source": [
    "#lets extract the pattern from the text"
   ]
  },
  {
   "cell_type": "code",
   "execution_count": 36,
   "id": "a10666ed",
   "metadata": {},
   "outputs": [
    {
     "name": "stdout",
     "output_type": "stream",
     "text": [
      "countries such as Vietnam\n"
     ]
    }
   ],
   "source": [
    "matcher=Matcher(nlp.vocab)\n",
    "matcher.add('matching_1', [pattern])\n",
    "matches=matcher(doc)\n",
    "span=doc[matches[0][1]:matches[0][2]]\n",
    "print(span.text)"
   ]
  },
  {
   "cell_type": "code",
   "execution_count": null,
   "id": "9aeec05d",
   "metadata": {},
   "outputs": [],
   "source": [
    "matcher=Matcher(nlp.vocab)"
   ]
  },
  {
   "cell_type": "code",
   "execution_count": 41,
   "id": "803ce1ad",
   "metadata": {},
   "outputs": [
    {
     "name": "stdout",
     "output_type": "stream",
     "text": [
      "developing countries such as Vietnam\n"
     ]
    }
   ],
   "source": [
    "pattern=[{'DEP':'amod', 'OP':'?'}, \n",
    "        {'POS':'NOUN'},\n",
    "        {'LOWER':'such'},\n",
    "        {'LOWER':'as'},\n",
    "        {'POS':'PROPN'}]\n",
    "matcher.add('matching_1',  [pattern])\n",
    "matches=matcher(doc)\n",
    "span=doc[matches[0][1]:matches[0][2]]\n",
    "print(span.text)"
   ]
  },
  {
   "cell_type": "code",
   "execution_count": 42,
   "id": "e2c2a774",
   "metadata": {},
   "outputs": [
    {
     "name": "stdout",
     "output_type": "stream",
     "text": [
      "here --> advmod ADV\n",
      "is --> ROOT AUX\n",
      "how --> advmod ADV\n",
      "you --> nsubj PRON\n",
      "can --> aux AUX\n",
      "keep --> ccomp VERB\n",
      "your --> poss PRON\n",
      "car --> dobj NOUN\n",
      "and --> cc CCONJ\n",
      "other --> amod ADJ\n",
      "vehicles --> conj NOUN\n",
      "clean --> oprd ADJ\n",
      ". --> punct PUNCT\n"
     ]
    }
   ],
   "source": [
    "doc=nlp('here is how you can keep your car and other vehicles clean.')\n",
    "for tok in doc:\n",
    "    print(tok.text,'-->', tok.dep_, tok.pos_)"
   ]
  },
  {
   "cell_type": "code",
   "execution_count": null,
   "id": "2c6f28d5",
   "metadata": {},
   "outputs": [],
   "source": []
  },
  {
   "cell_type": "code",
   "execution_count": 43,
   "id": "d8389a25",
   "metadata": {},
   "outputs": [],
   "source": [
    "#matcher class object"
   ]
  },
  {
   "cell_type": "code",
   "execution_count": 58,
   "id": "a409f9d7",
   "metadata": {},
   "outputs": [
    {
     "name": "stdout",
     "output_type": "stream",
     "text": [
      "car and other vehicles\n"
     ]
    }
   ],
   "source": [
    "matcher=Matcher(nlp.vocab)\n",
    "pattern=[{'DEP':'amod', 'OP':'?'},\n",
    "        {'POS':'NOUN'},\n",
    "        {'LOWER':'and','OP':'?'},\n",
    "        {'LOWER':'or','OP':'?'},\n",
    "        {'LOWER':'other'},\n",
    "        {'POS':'NOUN'}]\n",
    "matcher.add('matching_1', [pattern])\n",
    "matches=matcher(doc)\n",
    "span=doc[matches[0][1]:matches[0][2]]\n",
    "\n",
    "print(span.text)"
   ]
  },
  {
   "cell_type": "code",
   "execution_count": null,
   "id": "9c7f1868",
   "metadata": {},
   "outputs": [],
   "source": []
  },
  {
   "cell_type": "code",
   "execution_count": null,
   "id": "d7e7464a",
   "metadata": {},
   "outputs": [],
   "source": []
  }
 ],
 "metadata": {
  "kernelspec": {
   "display_name": "Python 3",
   "language": "python",
   "name": "python3"
  },
  "language_info": {
   "codemirror_mode": {
    "name": "ipython",
    "version": 3
   },
   "file_extension": ".py",
   "mimetype": "text/x-python",
   "name": "python",
   "nbconvert_exporter": "python",
   "pygments_lexer": "ipython3",
   "version": "3.8.8"
  }
 },
 "nbformat": 4,
 "nbformat_minor": 5
}
